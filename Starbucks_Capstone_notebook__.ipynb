{
 "cells": [
  {
   "cell_type": "markdown",
   "metadata": {},
   "source": [
    "# Starbucks Capstone Challenge\n",
    "\n",
    "### Project Overview\n",
    "\n",
    "The project uses a simulated data about Starbucks customer behaviour based on offers, rewards and customer response implemented using a mobile app. Accordingly, Starbucks sends out every few days offers to users, which could be a mere advertisement for a drink or an actual offer such as a discount or BOGO (buy one get one free). Some users might not receive any offer during certain weeks, and not all users receive the same offer. The offers have different valididy period\n",
    "\n",
    "The data to be used in the project is provided in three files, including offer-specific dataset, information on customer profiles and a more detailed dataset listing the various offers, customer responses, awards, and trasactions performed by clients. The transactional data in partcular provides a lot of insights into customer behaviour including the the timestamp of purchase, the amount of money spent on a purchase, a record for each offer recieved by each custormer, when a customer viewed the offer and also information about offer completion by the user. "
   ]
  },
  {
   "cell_type": "markdown",
   "metadata": {},
   "source": [
    "### Problem Statement"
   ]
  },
  {
   "cell_type": "markdown",
   "metadata": {},
   "source": [
    "The main goal of the exercise is to investigate to what extent promotional rewards and discount would influence more spending by Starbucks customers. Thus, the issues we want to address below is to assess the effectiveness of the promotional offers."
   ]
  },
  {
   "cell_type": "markdown",
   "metadata": {},
   "source": [
    "### Metrics"
   ]
  },
  {
   "cell_type": "markdown",
   "metadata": {},
   "source": [
    "We will use the selected model’s accuracy score as the the first measure of predictive power of the selected models.\n",
    "Secondly, we will extract the feature_importance estimates from the RandomForestModel and try to assess the top 5 most important predictors of completing the offers."
   ]
  },
  {
   "cell_type": "markdown",
   "metadata": {},
   "source": [
    "### Data Sets\n",
    "\n",
    "The data is contained in three files:\n",
    "\n",
    "* portfolio.json - containing offer ids and meta data about each offer (duration, type, etc.)\n",
    "* profile.json - demographic data for each customer\n",
    "* transcript.json - records for transactions, offers received, offers viewed, and offers completed\n",
    "\n",
    "Here is the schema and explanation of each variable in the files:\n",
    "\n",
    "**portfolio.json**\n",
    "* id (string) - offer id\n",
    "* offer_type (string) - type of offer ie BOGO, discount, informational\n",
    "* difficulty (int) - minimum required spend to complete an offer\n",
    "* reward (int) - reward given for completing an offer\n",
    "* duration (int) - time for offer to be open, in days\n",
    "* channels (list of strings)\n",
    "\n",
    "**profile.json**\n",
    "* age (int) - age of the customer \n",
    "* became_member_on (int) - date when customer created an app account\n",
    "* gender (str) - gender of the customer (note some entries contain 'O' for other rather than M or F)\n",
    "* id (str) - customer id\n",
    "* income (float) - customer's income\n",
    "\n",
    "**transcript.json**\n",
    "* event (str) - record description (ie transaction, offer received, offer viewed, etc.)\n",
    "* person (str) - customer id\n",
    "* time (int) - time in hours since start of test. The data begins at time t=0\n",
    "* value - (dict of strings) - either an offer id or transaction amount depending on the record\n"
   ]
  },
  {
   "cell_type": "code",
   "execution_count": 1,
   "metadata": {},
   "outputs": [],
   "source": [
    "import pandas as pd\n",
    "import numpy as np\n",
    "import matplotlib.pyplot as plt\n",
    "\n",
    "from sklearn.model_selection import train_test_split\n",
    "from sklearn.preprocessing import StandardScaler\n",
    "from sklearn.linear_model import LogisticRegression\n",
    "from sklearn.ensemble import RandomForestClassifier\n",
    "from sklearn.metrics import confusion_matrix\n",
    "\n",
    "%matplotlib inline"
   ]
  },
  {
   "cell_type": "code",
   "execution_count": 2,
   "metadata": {},
   "outputs": [],
   "source": [
    "# read in the json files containing the datasets\n",
    "portfolio = pd.read_json('data/portfolio.json', orient='records', lines=True)\n",
    "profile = pd.read_json('data/profile.json', orient='records',lines=True)\n",
    "transcript = pd.read_json('data/transcript.json', orient='records', lines=True)"
   ]
  },
  {
   "cell_type": "markdown",
   "metadata": {},
   "source": [
    "### Data Exploration"
   ]
  },
  {
   "cell_type": "markdown",
   "metadata": {},
   "source": [
    "#### The **portfolio** dataset"
   ]
  },
  {
   "cell_type": "code",
   "execution_count": 4,
   "metadata": {},
   "outputs": [
    {
     "data": {
      "text/html": [
       "<div>\n",
       "<style scoped>\n",
       "    .dataframe tbody tr th:only-of-type {\n",
       "        vertical-align: middle;\n",
       "    }\n",
       "\n",
       "    .dataframe tbody tr th {\n",
       "        vertical-align: top;\n",
       "    }\n",
       "\n",
       "    .dataframe thead th {\n",
       "        text-align: right;\n",
       "    }\n",
       "</style>\n",
       "<table border=\"1\" class=\"dataframe\">\n",
       "  <thead>\n",
       "    <tr style=\"text-align: right;\">\n",
       "      <th></th>\n",
       "      <th>reward</th>\n",
       "      <th>channels</th>\n",
       "      <th>difficulty</th>\n",
       "      <th>duration</th>\n",
       "      <th>offer_type</th>\n",
       "      <th>id</th>\n",
       "    </tr>\n",
       "  </thead>\n",
       "  <tbody>\n",
       "    <tr>\n",
       "      <th>0</th>\n",
       "      <td>10</td>\n",
       "      <td>[email, mobile, social]</td>\n",
       "      <td>10</td>\n",
       "      <td>7</td>\n",
       "      <td>bogo</td>\n",
       "      <td>ae264e3637204a6fb9bb56bc8210ddfd</td>\n",
       "    </tr>\n",
       "    <tr>\n",
       "      <th>1</th>\n",
       "      <td>10</td>\n",
       "      <td>[web, email, mobile, social]</td>\n",
       "      <td>10</td>\n",
       "      <td>5</td>\n",
       "      <td>bogo</td>\n",
       "      <td>4d5c57ea9a6940dd891ad53e9dbe8da0</td>\n",
       "    </tr>\n",
       "    <tr>\n",
       "      <th>2</th>\n",
       "      <td>0</td>\n",
       "      <td>[web, email, mobile]</td>\n",
       "      <td>0</td>\n",
       "      <td>4</td>\n",
       "      <td>informational</td>\n",
       "      <td>3f207df678b143eea3cee63160fa8bed</td>\n",
       "    </tr>\n",
       "    <tr>\n",
       "      <th>3</th>\n",
       "      <td>5</td>\n",
       "      <td>[web, email, mobile]</td>\n",
       "      <td>5</td>\n",
       "      <td>7</td>\n",
       "      <td>bogo</td>\n",
       "      <td>9b98b8c7a33c4b65b9aebfe6a799e6d9</td>\n",
       "    </tr>\n",
       "    <tr>\n",
       "      <th>4</th>\n",
       "      <td>5</td>\n",
       "      <td>[web, email]</td>\n",
       "      <td>20</td>\n",
       "      <td>10</td>\n",
       "      <td>discount</td>\n",
       "      <td>0b1e1539f2cc45b7b9fa7c272da2e1d7</td>\n",
       "    </tr>\n",
       "    <tr>\n",
       "      <th>5</th>\n",
       "      <td>3</td>\n",
       "      <td>[web, email, mobile, social]</td>\n",
       "      <td>7</td>\n",
       "      <td>7</td>\n",
       "      <td>discount</td>\n",
       "      <td>2298d6c36e964ae4a3e7e9706d1fb8c2</td>\n",
       "    </tr>\n",
       "    <tr>\n",
       "      <th>6</th>\n",
       "      <td>2</td>\n",
       "      <td>[web, email, mobile, social]</td>\n",
       "      <td>10</td>\n",
       "      <td>10</td>\n",
       "      <td>discount</td>\n",
       "      <td>fafdcd668e3743c1bb461111dcafc2a4</td>\n",
       "    </tr>\n",
       "    <tr>\n",
       "      <th>7</th>\n",
       "      <td>0</td>\n",
       "      <td>[email, mobile, social]</td>\n",
       "      <td>0</td>\n",
       "      <td>3</td>\n",
       "      <td>informational</td>\n",
       "      <td>5a8bc65990b245e5a138643cd4eb9837</td>\n",
       "    </tr>\n",
       "    <tr>\n",
       "      <th>8</th>\n",
       "      <td>5</td>\n",
       "      <td>[web, email, mobile, social]</td>\n",
       "      <td>5</td>\n",
       "      <td>5</td>\n",
       "      <td>bogo</td>\n",
       "      <td>f19421c1d4aa40978ebb69ca19b0e20d</td>\n",
       "    </tr>\n",
       "    <tr>\n",
       "      <th>9</th>\n",
       "      <td>2</td>\n",
       "      <td>[web, email, mobile]</td>\n",
       "      <td>10</td>\n",
       "      <td>7</td>\n",
       "      <td>discount</td>\n",
       "      <td>2906b810c7d4411798c6938adc9daaa5</td>\n",
       "    </tr>\n",
       "  </tbody>\n",
       "</table>\n",
       "</div>"
      ],
      "text/plain": [
       "   reward                      channels  difficulty  duration     offer_type   \n",
       "0      10       [email, mobile, social]          10         7           bogo  \\\n",
       "1      10  [web, email, mobile, social]          10         5           bogo   \n",
       "2       0          [web, email, mobile]           0         4  informational   \n",
       "3       5          [web, email, mobile]           5         7           bogo   \n",
       "4       5                  [web, email]          20        10       discount   \n",
       "5       3  [web, email, mobile, social]           7         7       discount   \n",
       "6       2  [web, email, mobile, social]          10        10       discount   \n",
       "7       0       [email, mobile, social]           0         3  informational   \n",
       "8       5  [web, email, mobile, social]           5         5           bogo   \n",
       "9       2          [web, email, mobile]          10         7       discount   \n",
       "\n",
       "                                 id  \n",
       "0  ae264e3637204a6fb9bb56bc8210ddfd  \n",
       "1  4d5c57ea9a6940dd891ad53e9dbe8da0  \n",
       "2  3f207df678b143eea3cee63160fa8bed  \n",
       "3  9b98b8c7a33c4b65b9aebfe6a799e6d9  \n",
       "4  0b1e1539f2cc45b7b9fa7c272da2e1d7  \n",
       "5  2298d6c36e964ae4a3e7e9706d1fb8c2  \n",
       "6  fafdcd668e3743c1bb461111dcafc2a4  \n",
       "7  5a8bc65990b245e5a138643cd4eb9837  \n",
       "8  f19421c1d4aa40978ebb69ca19b0e20d  \n",
       "9  2906b810c7d4411798c6938adc9daaa5  "
      ]
     },
     "execution_count": 4,
     "metadata": {},
     "output_type": "execute_result"
    }
   ],
   "source": [
    "# check the full data contained by the portfolio dataset\n",
    "portfolio"
   ]
  },
  {
   "cell_type": "code",
   "execution_count": 5,
   "metadata": {},
   "outputs": [
    {
     "data": {
      "text/plain": [
       "reward        0\n",
       "channels      0\n",
       "difficulty    0\n",
       "duration      0\n",
       "offer_type    0\n",
       "id            0\n",
       "dtype: int64"
      ]
     },
     "execution_count": 5,
     "metadata": {},
     "output_type": "execute_result"
    }
   ],
   "source": [
    "# check for null values in the portfolio dataset\n",
    "portfolio.isnull().sum()"
   ]
  },
  {
   "cell_type": "code",
   "execution_count": 6,
   "metadata": {},
   "outputs": [
    {
     "data": {
      "image/png": "[encoded data removed]",
      "text/plain": [
       "<Figure size 600x400 with 1 Axes>"
      ]
     },
     "metadata": {},
     "output_type": "display_data"
    }
   ],
   "source": [
    "portfolio.groupby('offer_type')['id'].count().plot(kind='bar',title='Summary of Offers',\n",
    "               ylabel='Number of Offers', yticks=[0,1,2,3,4], xlabel='Offer Types', figsize=(6, 4));"
   ]
  },
  {
   "cell_type": "markdown",
   "metadata": {},
   "source": [
    "#### The **profile** dataset"
   ]
  },
  {
   "cell_type": "code",
   "execution_count": 7,
   "metadata": {},
   "outputs": [
    {
     "data": {
      "text/html": [
       "<div>\n",
       "<style scoped>\n",
       "    .dataframe tbody tr th:only-of-type {\n",
       "        vertical-align: middle;\n",
       "    }\n",
       "\n",
       "    .dataframe tbody tr th {\n",
       "        vertical-align: top;\n",
       "    }\n",
       "\n",
       "    .dataframe thead th {\n",
       "        text-align: right;\n",
       "    }\n",
       "</style>\n",
       "<table border=\"1\" class=\"dataframe\">\n",
       "  <thead>\n",
       "    <tr style=\"text-align: right;\">\n",
       "      <th></th>\n",
       "      <th>gender</th>\n",
       "      <th>age</th>\n",
       "      <th>id</th>\n",
       "      <th>became_member_on</th>\n",
       "      <th>income</th>\n",
       "    </tr>\n",
       "  </thead>\n",
       "  <tbody>\n",
       "    <tr>\n",
       "      <th>0</th>\n",
       "      <td>None</td>\n",
       "      <td>118</td>\n",
       "      <td>68be06ca386d4c31939f3a4f0e3dd783</td>\n",
       "      <td>20170212</td>\n",
       "      <td>NaN</td>\n",
       "    </tr>\n",
       "    <tr>\n",
       "      <th>1</th>\n",
       "      <td>F</td>\n",
       "      <td>55</td>\n",
       "      <td>0610b486422d4921ae7d2bf64640c50b</td>\n",
       "      <td>20170715</td>\n",
       "      <td>112000.0</td>\n",
       "    </tr>\n",
       "    <tr>\n",
       "      <th>2</th>\n",
       "      <td>None</td>\n",
       "      <td>118</td>\n",
       "      <td>38fe809add3b4fcf9315a9694bb96ff5</td>\n",
       "      <td>20180712</td>\n",
       "      <td>NaN</td>\n",
       "    </tr>\n",
       "    <tr>\n",
       "      <th>3</th>\n",
       "      <td>F</td>\n",
       "      <td>75</td>\n",
       "      <td>78afa995795e4d85b5d9ceeca43f5fef</td>\n",
       "      <td>20170509</td>\n",
       "      <td>100000.0</td>\n",
       "    </tr>\n",
       "    <tr>\n",
       "      <th>4</th>\n",
       "      <td>None</td>\n",
       "      <td>118</td>\n",
       "      <td>a03223e636434f42ac4c3df47e8bac43</td>\n",
       "      <td>20170804</td>\n",
       "      <td>NaN</td>\n",
       "    </tr>\n",
       "  </tbody>\n",
       "</table>\n",
       "</div>"
      ],
      "text/plain": [
       "  gender  age                                id  became_member_on    income\n",
       "0   None  118  68be06ca386d4c31939f3a4f0e3dd783          20170212       NaN\n",
       "1      F   55  0610b486422d4921ae7d2bf64640c50b          20170715  112000.0\n",
       "2   None  118  38fe809add3b4fcf9315a9694bb96ff5          20180712       NaN\n",
       "3      F   75  78afa995795e4d85b5d9ceeca43f5fef          20170509  100000.0\n",
       "4   None  118  a03223e636434f42ac4c3df47e8bac43          20170804       NaN"
      ]
     },
     "execution_count": 7,
     "metadata": {},
     "output_type": "execute_result"
    }
   ],
   "source": [
    "# view the first few lines of the dataset\n",
    "profile.head()"
   ]
  },
  {
   "cell_type": "code",
   "execution_count": 8,
   "metadata": {},
   "outputs": [
    {
     "data": {
      "text/plain": [
       "gender              2175\n",
       "age                    0\n",
       "id                     0\n",
       "became_member_on       0\n",
       "income              2175\n",
       "dtype: int64"
      ]
     },
     "execution_count": 8,
     "metadata": {},
     "output_type": "execute_result"
    }
   ],
   "source": [
    "# check for null values in the profile dataset\n",
    "profile.isnull().sum()"
   ]
  },
  {
   "cell_type": "markdown",
   "metadata": {},
   "source": [
    "The gender and income features have equal 2175 missing values"
   ]
  },
  {
   "cell_type": "code",
   "execution_count": 9,
   "metadata": {},
   "outputs": [
    {
     "data": {
      "text/html": [
       "<div>\n",
       "<style scoped>\n",
       "    .dataframe tbody tr th:only-of-type {\n",
       "        vertical-align: middle;\n",
       "    }\n",
       "\n",
       "    .dataframe tbody tr th {\n",
       "        vertical-align: top;\n",
       "    }\n",
       "\n",
       "    .dataframe thead th {\n",
       "        text-align: right;\n",
       "    }\n",
       "</style>\n",
       "<table border=\"1\" class=\"dataframe\">\n",
       "  <thead>\n",
       "    <tr style=\"text-align: right;\">\n",
       "      <th></th>\n",
       "      <th>gender</th>\n",
       "      <th>age</th>\n",
       "      <th>id</th>\n",
       "      <th>became_member_on</th>\n",
       "      <th>income</th>\n",
       "    </tr>\n",
       "  </thead>\n",
       "  <tbody>\n",
       "  </tbody>\n",
       "</table>\n",
       "</div>"
      ],
      "text/plain": [
       "Empty DataFrame\n",
       "Columns: [gender, age, id, became_member_on, income]\n",
       "Index: []"
      ]
     },
     "execution_count": 9,
     "metadata": {},
     "output_type": "execute_result"
    }
   ],
   "source": [
    "# check for duplicated rows\n",
    "profile[profile.duplicated()]"
   ]
  },
  {
   "cell_type": "code",
   "execution_count": 10,
   "metadata": {},
   "outputs": [
    {
     "data": {
      "image/png": "[encoded data removed]",
      "text/plain": [
       "<Figure size 640x480 with 1 Axes>"
      ]
     },
     "metadata": {},
     "output_type": "display_data"
    }
   ],
   "source": [
    "# plot a histogram of age distribution \n",
    "profile.age.plot.hist(xlabel='Age',edgecolor='white', title='Distribution of Age - Profile Dataset'); "
   ]
  },
  {
   "cell_type": "markdown",
   "metadata": {},
   "source": [
    "Above, we observe a large number of observations who reported age above 110 years.\n",
    "It is very likely there is a problem with this data."
   ]
  },
  {
   "cell_type": "code",
   "execution_count": 11,
   "metadata": {},
   "outputs": [
    {
     "data": {
      "text/plain": [
       "age\n",
       "93       29\n",
       "94       33\n",
       "95       22\n",
       "96        8\n",
       "97       13\n",
       "98        5\n",
       "99        5\n",
       "100      12\n",
       "101       5\n",
       "118    2175\n",
       "Name: age, dtype: int64"
      ]
     },
     "execution_count": 11,
     "metadata": {},
     "output_type": "execute_result"
    }
   ],
   "source": [
    "# As we see below, the problem arises from 2175 observations which reported age of customers equal to 118 years.\n",
    "profile.groupby('age')['age'].count().tail(10)"
   ]
  },
  {
   "cell_type": "code",
   "execution_count": 12,
   "metadata": {},
   "outputs": [
    {
     "data": {
      "image/png": "[encoded data removed]",
      "text/plain": [
       "<Figure size 640x480 with 1 Axes>"
      ]
     },
     "metadata": {},
     "output_type": "display_data"
    }
   ],
   "source": [
    "# plot a histogram of the income data to observe its distribution\n",
    "profile.income.plot.hist(xlabel='Income',edgecolor='white', title='Distribution of Income - Profile Dataset');"
   ]
  },
  {
   "cell_type": "code",
   "execution_count": 13,
   "metadata": {},
   "outputs": [
    {
     "data": {
      "text/plain": [
       "gender                 0\n",
       "age                 2175\n",
       "became_member_on    2175\n",
       "income                 0\n",
       "dtype: int64"
      ]
     },
     "execution_count": 13,
     "metadata": {},
     "output_type": "execute_result"
    }
   ],
   "source": [
    "# check data associated with reported age of 118 years.\n",
    "profile[profile['age']== 118].groupby('id').count().sum()"
   ]
  },
  {
   "cell_type": "markdown",
   "metadata": {},
   "source": [
    "The income and gender columns corresponding to age value of 118 is empty (nan) "
   ]
  },
  {
   "cell_type": "markdown",
   "metadata": {},
   "source": [
    "#### The **transcript** dataset"
   ]
  },
  {
   "cell_type": "code",
   "execution_count": 14,
   "metadata": {},
   "outputs": [
    {
     "data": {
      "text/plain": [
       "(306534, 4)"
      ]
     },
     "execution_count": 14,
     "metadata": {},
     "output_type": "execute_result"
    }
   ],
   "source": [
    "# check the dimension of the transcript dataset\n",
    "transcript.shape"
   ]
  },
  {
   "cell_type": "code",
   "execution_count": 15,
   "metadata": {},
   "outputs": [
    {
     "data": {
      "text/html": [
       "<div>\n",
       "<style scoped>\n",
       "    .dataframe tbody tr th:only-of-type {\n",
       "        vertical-align: middle;\n",
       "    }\n",
       "\n",
       "    .dataframe tbody tr th {\n",
       "        vertical-align: top;\n",
       "    }\n",
       "\n",
       "    .dataframe thead th {\n",
       "        text-align: right;\n",
       "    }\n",
       "</style>\n",
       "<table border=\"1\" class=\"dataframe\">\n",
       "  <thead>\n",
       "    <tr style=\"text-align: right;\">\n",
       "      <th></th>\n",
       "      <th>person</th>\n",
       "      <th>event</th>\n",
       "      <th>value</th>\n",
       "      <th>time</th>\n",
       "    </tr>\n",
       "  </thead>\n",
       "  <tbody>\n",
       "    <tr>\n",
       "      <th>0</th>\n",
       "      <td>78afa995795e4d85b5d9ceeca43f5fef</td>\n",
       "      <td>offer received</td>\n",
       "      <td>{'offer id': '9b98b8c7a33c4b65b9aebfe6a799e6d9'}</td>\n",
       "      <td>0</td>\n",
       "    </tr>\n",
       "    <tr>\n",
       "      <th>1</th>\n",
       "      <td>a03223e636434f42ac4c3df47e8bac43</td>\n",
       "      <td>offer received</td>\n",
       "      <td>{'offer id': '0b1e1539f2cc45b7b9fa7c272da2e1d7'}</td>\n",
       "      <td>0</td>\n",
       "    </tr>\n",
       "    <tr>\n",
       "      <th>2</th>\n",
       "      <td>e2127556f4f64592b11af22de27a7932</td>\n",
       "      <td>offer received</td>\n",
       "      <td>{'offer id': '2906b810c7d4411798c6938adc9daaa5'}</td>\n",
       "      <td>0</td>\n",
       "    </tr>\n",
       "    <tr>\n",
       "      <th>3</th>\n",
       "      <td>8ec6ce2a7e7949b1bf142def7d0e0586</td>\n",
       "      <td>offer received</td>\n",
       "      <td>{'offer id': 'fafdcd668e3743c1bb461111dcafc2a4'}</td>\n",
       "      <td>0</td>\n",
       "    </tr>\n",
       "    <tr>\n",
       "      <th>4</th>\n",
       "      <td>68617ca6246f4fbc85e91a2a49552598</td>\n",
       "      <td>offer received</td>\n",
       "      <td>{'offer id': '4d5c57ea9a6940dd891ad53e9dbe8da0'}</td>\n",
       "      <td>0</td>\n",
       "    </tr>\n",
       "  </tbody>\n",
       "</table>\n",
       "</div>"
      ],
      "text/plain": [
       "                             person           event   \n",
       "0  78afa995795e4d85b5d9ceeca43f5fef  offer received  \\\n",
       "1  a03223e636434f42ac4c3df47e8bac43  offer received   \n",
       "2  e2127556f4f64592b11af22de27a7932  offer received   \n",
       "3  8ec6ce2a7e7949b1bf142def7d0e0586  offer received   \n",
       "4  68617ca6246f4fbc85e91a2a49552598  offer received   \n",
       "\n",
       "                                              value  time  \n",
       "0  {'offer id': '9b98b8c7a33c4b65b9aebfe6a799e6d9'}     0  \n",
       "1  {'offer id': '0b1e1539f2cc45b7b9fa7c272da2e1d7'}     0  \n",
       "2  {'offer id': '2906b810c7d4411798c6938adc9daaa5'}     0  \n",
       "3  {'offer id': 'fafdcd668e3743c1bb461111dcafc2a4'}     0  \n",
       "4  {'offer id': '4d5c57ea9a6940dd891ad53e9dbe8da0'}     0  "
      ]
     },
     "execution_count": 15,
     "metadata": {},
     "output_type": "execute_result"
    }
   ],
   "source": [
    "# view the first 5 lines of transcript\n",
    "transcript.head()"
   ]
  },
  {
   "cell_type": "code",
   "execution_count": 16,
   "metadata": {},
   "outputs": [
    {
     "data": {
      "text/plain": [
       "person    0\n",
       "event     0\n",
       "value     0\n",
       "time      0\n",
       "dtype: int64"
      ]
     },
     "execution_count": 16,
     "metadata": {},
     "output_type": "execute_result"
    }
   ],
   "source": [
    "# check for null values in the transcript dataset\n",
    "transcript.isnull().sum()"
   ]
  },
  {
   "cell_type": "code",
   "execution_count": 17,
   "metadata": {},
   "outputs": [
    {
     "data": {
      "text/plain": [
       "event\n",
       "transaction        0.453304\n",
       "offer received     0.248837\n",
       "offer viewed       0.188315\n",
       "offer completed    0.109544\n",
       "Name: count, dtype: float64"
      ]
     },
     "execution_count": 17,
     "metadata": {},
     "output_type": "execute_result"
    }
   ],
   "source": [
    "# tally the frequency of offer types under the 'event' column\n",
    "transcript['event'].value_counts()/len(transcript)"
   ]
  },
  {
   "cell_type": "markdown",
   "metadata": {},
   "source": [
    "45 percent of the entries in the transcript dataset represent transactions data, 25 percent offer-received, 18 percent offer-viewed\n",
    "with the remaining 18 percent constituting data of offers completed"
   ]
  },
  {
   "cell_type": "code",
   "execution_count": 18,
   "metadata": {},
   "outputs": [
    {
     "data": {
      "text/html": [
       "<div>\n",
       "<style scoped>\n",
       "    .dataframe tbody tr th:only-of-type {\n",
       "        vertical-align: middle;\n",
       "    }\n",
       "\n",
       "    .dataframe tbody tr th {\n",
       "        vertical-align: top;\n",
       "    }\n",
       "\n",
       "    .dataframe thead th {\n",
       "        text-align: right;\n",
       "    }\n",
       "</style>\n",
       "<table border=\"1\" class=\"dataframe\">\n",
       "  <thead>\n",
       "    <tr style=\"text-align: right;\">\n",
       "      <th></th>\n",
       "      <th>person</th>\n",
       "      <th>value</th>\n",
       "      <th>time</th>\n",
       "    </tr>\n",
       "    <tr>\n",
       "      <th>event</th>\n",
       "      <th></th>\n",
       "      <th></th>\n",
       "      <th></th>\n",
       "    </tr>\n",
       "  </thead>\n",
       "  <tbody>\n",
       "    <tr>\n",
       "      <th>offer completed</th>\n",
       "      <td>5</td>\n",
       "      <td>5</td>\n",
       "      <td>5</td>\n",
       "    </tr>\n",
       "    <tr>\n",
       "      <th>offer received</th>\n",
       "      <td>6</td>\n",
       "      <td>6</td>\n",
       "      <td>6</td>\n",
       "    </tr>\n",
       "    <tr>\n",
       "      <th>offer viewed</th>\n",
       "      <td>3</td>\n",
       "      <td>3</td>\n",
       "      <td>3</td>\n",
       "    </tr>\n",
       "    <tr>\n",
       "      <th>transaction</th>\n",
       "      <td>13</td>\n",
       "      <td>13</td>\n",
       "      <td>13</td>\n",
       "    </tr>\n",
       "  </tbody>\n",
       "</table>\n",
       "</div>"
      ],
      "text/plain": [
       "                 person  value  time\n",
       "event                               \n",
       "offer completed       5      5     5\n",
       "offer received        6      6     6\n",
       "offer viewed          3      3     3\n",
       "transaction          13     13    13"
      ]
     },
     "execution_count": 18,
     "metadata": {},
     "output_type": "execute_result"
    }
   ],
   "source": [
    "# The following code is to inspect the events associated with a casually selected customer \n",
    "transcript[transcript.person == 'f3e801caeafe4899b3b989b586e74ac7'].groupby('event').count()"
   ]
  },
  {
   "cell_type": "markdown",
   "metadata": {},
   "source": [
    "### Data Processing"
   ]
  },
  {
   "cell_type": "markdown",
   "metadata": {},
   "source": [
    "- ##### Portfolio dataset"
   ]
  },
  {
   "cell_type": "code",
   "execution_count": 19,
   "metadata": {},
   "outputs": [],
   "source": [
    "def folio_cleaned(df):\n",
    "    '''\n",
    "    This function works on the portfolio dataset primarily to feature-engineer new columns based on one-hot encoding, and\n",
    "    undertaking linear transformations\n",
    "\n",
    "    INPUT: \n",
    "        df (dataframe): the original portfolio  dataset\n",
    "    OUTPUT:\n",
    "        folio (dataframe): an expanded and modified portfolio dataset\n",
    "\n",
    "    '''\n",
    "    # create a copy of the porfolio dataset\n",
    "    folio = df.copy(deep=True)\n",
    "    # create dummy variable from the 'channels' column\n",
    "    folio = folio.join(folio.pop('channels').str.join('|').str.get_dummies())\n",
    "    # convert offer_type into dummies through  one_hot encoding\n",
    "    folio = pd.get_dummies(folio, columns=['offer_type'], dtype=int, prefix=\"\", prefix_sep=\"\")\n",
    "    # create a 'durations_in_hrs' variable by multiplying the number of days in the 'duration' column by 24\n",
    "    folio['duration_in_hrs'] = folio['duration'].apply(lambda x: x *24)\n",
    "    # rename the 'id' column into 'offer_id'\n",
    "    folio = folio.rename(columns={'id':'offer_id'})\n",
    "    \n",
    "    return folio"
   ]
  },
  {
   "cell_type": "markdown",
   "metadata": {},
   "source": [
    "- #### Profile dataset"
   ]
  },
  {
   "cell_type": "code",
   "execution_count": 20,
   "metadata": {},
   "outputs": [],
   "source": [
    "def prof_cleaned(df):\n",
    "    '''\n",
    "    The prof_cleaned function focuses on preparing the ground for featuring engineering on the 'age', 'income', 'gender', and \n",
    "    'become_a_member' columns. Some of the code also enables to remove largely empty rows and rename one features for clarity\n",
    "\n",
    "    INPUT:\n",
    "        df (dataframe): the original profile  dataset\n",
    "    OUTPUT:\n",
    "        prof (dataframe): an expanded and modified version of the profile dataset\n",
    "\n",
    "    '''\n",
    "    \n",
    "    prof = df.copy(deep=True)\n",
    "\n",
    "    #creating age_ranges from 'age' column in the profile dataset\n",
    "    prof['age_range'] = pd.cut(prof['age'], bins=range(10,120,10),right=False, \n",
    "                labels=['10s','20s', '30s', '40s', '50s','60s', '70s', '80s', '90s', '100s'])\n",
    "    #creating income_ranges from the 'income' column in the dataset\n",
    "    prof['income_range'] = pd.cut(prof['income'], bins=range(30000,130000,10000), right=False, \n",
    "                                            labels=['40k', '50k', '60k', '70k','80k', '90k', '100k', '110k', '120k'])\n",
    "    # drop the 2175 rows with nan values in the gender, age and income columns \n",
    "    prof.drop(index = prof[prof['gender'].isnull()].index, inplace = True)\n",
    "    # convert gender data into dummies through  one_hot encoding\n",
    "    prof = pd.get_dummies(prof, columns=['gender'], dtype=int, prefix=\"gender\", prefix_sep=\"_\")\n",
    "    #convert the values in became_member_on column to datetime datatype\n",
    "    prof['became_member_on'] = prof['became_member_on'].apply(lambda x: pd.to_datetime(str(x), format='%Y%m%d'))\n",
    "    # create new column for year\n",
    "    prof['year'] = prof['became_member_on'].apply(lambda x: x.year)\n",
    "    # create new columns for month\n",
    "    prof['month'] = prof['became_member_on'].apply(lambda x: x.month)\n",
    "    # create new columns for the day of the month\n",
    "    #prof['day'] = prof['became_member_on'].apply(lambda x: x.day)\n",
    "    prof = prof.rename(columns={'id':'customer_id'})\n",
    "\n",
    "    #drop the 'age_range' column\n",
    "    prof = prof.drop('age', axis=1)\n",
    "    #drop the 'income_range' column\n",
    "    prof = prof.drop('income', axis=1)\n",
    "\n",
    "    return prof"
   ]
  },
  {
   "cell_type": "markdown",
   "metadata": {},
   "source": [
    "- #### Transcript dataset"
   ]
  },
  {
   "cell_type": "code",
   "execution_count": 21,
   "metadata": {},
   "outputs": [],
   "source": [
    "def script_cleaned(df):\n",
    "    ''' \n",
    "    The main purpose of this function is to extract the information packed in the 'value' column of the transcripts dataset.\n",
    "    Since, the data type of the 'value' column is a dictionary, we apply list comprehensivion to extract key_value pairs from the \n",
    "    dict_values. In addition to the feature-engineering mentioned above, the function also separates 'offers' and 'transactions' data.\n",
    "\n",
    "    INPUT:\n",
    "        df (dataframe): the original transcript dataset\n",
    "    OUTPUT: \n",
    "        offers_only (dataframe): offers_only data extracted from the transcript dataset\n",
    "        transaction (dataframe): transactions_only data extracted from the transcript dataset\n",
    "    '''\n",
    "\n",
    "    # make a copy of the transcript dataset\n",
    "    script = df.copy(deep=True)\n",
    "    # create a new 'offer_id' column from the information contained in the 'value' column\n",
    "    script['offer_id'] = [[*val.values()][0] if [*val.keys()][0] in ['offer id', 'offer_id'] else None for val in script.value]\n",
    "    # create a new 'amount' column from the information contained in the dictionary values of the 'value' column\n",
    "    script['amount'] = [[*val.values()][0] if [*val.keys()][0] in ['amount'] else None for val in script.value]\n",
    "    # rename the 'person' column to 'customer_id'\n",
    "    script = script.rename(columns={'person': 'customer_id'})\n",
    "    # drop the 'value' column since all the data in the column is transferred to the 'offer_id' and 'amount' features\n",
    "    script = script.drop('value', axis=1)\n",
    "    # create a dataframe from the 'event' column consisting of non-transaction entries\n",
    "    offers_only = script[script['event'] != 'transaction']\n",
    "    # create a dataframe holding transactions-only entries\n",
    "    transaction = script[script['event'] == 'transaction']\n",
    "    # convert 'offer_types' into dummies using  one_hot encoding\n",
    "    offers_only = pd.get_dummies(offers_only, columns=['event'], prefix=\"\",  prefix_sep=\"\", dtype=int)\n",
    "\n",
    "    return offers_only, transaction"
   ]
  },
  {
   "cell_type": "markdown",
   "metadata": {},
   "source": [
    "### Preparing the Data"
   ]
  },
  {
   "cell_type": "markdown",
   "metadata": {},
   "source": [
    "In the following section, we will implement additional data preparation steps. We begin by generating the cleaned datasets associated with the three original datasets, combining the three datasets, and applying filtering tasks on the merged data. After saving the filtered data to a file (csv), we will load the data into a Pandas dataframe and apply one final round of processing aimed at handling missing values and implementing feature engineering. "
   ]
  },
  {
   "cell_type": "code",
   "execution_count": 22,
   "metadata": {},
   "outputs": [],
   "source": [
    "# apply the folio_cleaned function on the portfolio dataset\n",
    "portfolio_processed = folio_cleaned(portfolio)"
   ]
  },
  {
   "cell_type": "code",
   "execution_count": 23,
   "metadata": {},
   "outputs": [],
   "source": [
    "# apply the pro_cleaned fucntion on the profile dataset\n",
    "profile_processed = prof_cleaned(profile)"
   ]
  },
  {
   "cell_type": "code",
   "execution_count": 24,
   "metadata": {},
   "outputs": [],
   "source": [
    "# apply the script_cleaned function on the transcript dataset\n",
    "offers_processed, transactions_processed = script_cleaned(transcript)"
   ]
  },
  {
   "cell_type": "code",
   "execution_count": 25,
   "metadata": {},
   "outputs": [],
   "source": [
    "def filter_and_combine_data(portfolio, profiles, offers, transactions):\n",
    "\n",
    "    '''\n",
    "    This function filters the data contained in the portfolio, profile and transcript datasets and generates combined dataset\n",
    "    INPUT: \n",
    "        portfolio (dataframe): a processed portfolio dataframe generated above\n",
    "        profiles (dataframe): a processed profiles dataframe generated above\n",
    "        offers (dataframe): a processed offers only dataframe generated above\n",
    "        transactions (dataframe): a processed transactions-only dataframe generated above\n",
    "    OUTPUT: \n",
    "        combined_data (dataframe): a merged dataframe generated by applying further filtering on the four input datasets\n",
    "\n",
    "    '''\n",
    "    \n",
    "    # initialize an empty array to store the combined data\n",
    "    combined_data = []\n",
    "    # extract all unique customer IDs from the offers dataframe\n",
    "    customer_ids = offers['customer_id'].unique().tolist()\n",
    "\n",
    "    for idx in range(len(customer_ids)):\n",
    "        cs_id = customer_ids[idx]\n",
    "        # from the profile dataset, select the data of the customer associated with the customer_id\n",
    "        prof_data = profiles[profiles['customer_id']==cs_id]\n",
    "        # from the offers dataset, select entries associated with the customer_id\n",
    "        cs_offer_data = offers[offers['customer_id']==cs_id]\n",
    "        # from the transactions dataset, select entries associated with the customer_id\n",
    "        cs_transaction_actual = transactions[transactions['customer_id']==cs_id]\n",
    "\n",
    "        # retrieve and store data on offer recieved, completed and viewed in separate dataframes\n",
    "        offer_received_actual = cs_offer_data[cs_offer_data['offer received'] == 1]\n",
    "        offer_viewed_actual = cs_offer_data[cs_offer_data['offer viewed'] == 1]\n",
    "        offer_completed_actual = cs_offer_data[cs_offer_data['offer completed'] == 1]\n",
    "\n",
    "        # initialize an empty list to store filtered offer data for each customer\n",
    "        collect_entries = []\n",
    "        # iterate through the offer recieved entries for each customer extraced above\n",
    "        for i in range(offer_received_actual.shape[0]):\n",
    "            # identify and select the offer_id\n",
    "            offer_id = offer_received_actual.iloc[i]['offer_id']\n",
    "            # from the portfolio dataset, select the specific features of the offer\n",
    "            offer_type = portfolio.loc[portfolio['offer_id'] == offer_id]\n",
    "            # from the offer info, extract information on the duration\n",
    "            duration_days = offer_type['duration'].values[0]\n",
    "            # calculate duration in hours\n",
    "            duration_hours = offer_type['duration_in_hrs'].values[0]\n",
    "            # next, extract the time information from the offer_recieved\n",
    "            start_time = offer_received_actual.iloc[i]['time']\n",
    "            # calculate end_time for the offer by adding start_time to the offer duration\n",
    "            end_time = start_time + duration_hours\n",
    "            # initialize a boolean array to identify offers viewed within the offers' durations\n",
    "            offer_viewed_within_duration = np.logical_and(\n",
    "                offer_viewed_actual['time'] >= start_time, offer_viewed_actual['time'] <=end_time)\n",
    "\n",
    "            # a boolean array to identify offers completed within the offers' durations\n",
    "            offer_completed_within_duration = np.logical_and(\n",
    "                offer_completed_actual['time'] >= start_time, offer_completed_actual['time'] <= end_time)\n",
    "            # identify the offers viewed and completed within the offer time\n",
    "            offers_viewed_and_completed = offer_viewed_within_duration.sum() > 0 and offer_completed_within_duration.sum() > 0\n",
    "            # a boolean array to identify transactions excuted within the offers' durations\n",
    "            transactions_in_duration = np.logical_and(\n",
    "                cs_transaction_actual['time'] >= start_time, cs_transaction_actual['time'] <= end_time)\n",
    "            # extract transaction data undertaken within offer validity period\n",
    "            transaction_data = cs_transaction_actual[transactions_in_duration]\n",
    "            # calculate total amount spent by a client from given offers\n",
    "            transaction_total_amount = transaction_data['amount'].sum()\n",
    "\n",
    "            # intialize a dictionary template to be filled with each completed offer and transaction data\n",
    "            filtered_entries = {'offer_id': offer_id, 'customer_id': cs_id,\n",
    "                                'time': start_time,'total_amount': transaction_total_amount,\n",
    "                                'offer_completed': int(offers_viewed_and_completed)}\n",
    "                                \n",
    "            # update the filtered_entries dictionary with information of customer data contained in the profile dataframe \n",
    "            filtered_entries.update(prof_data[prof_data['customer_id'] == cs_id].squeeze().to_dict())\n",
    "            # update the filtered_entries dictionary with information of offer_id data contained in the offer_types\n",
    "            filtered_entries.update(offer_type[offer_type['offer_id'] == offer_id].squeeze().to_dict())\n",
    "            # update the collect_entries dictionary with the information contained in the filtered_entries dictionary \n",
    "            collect_entries.append(filtered_entries)\n",
    "        # add the collect_entries dictionary into the combined data list\n",
    "        combined_data.extend(collect_entries)\n",
    "\n",
    "    # convert the combined_data list into a dataframe\n",
    "    combined_data = pd.DataFrame(combined_data)\n",
    "    \n",
    "    return combined_data"
   ]
  },
  {
   "cell_type": "code",
   "execution_count": 26,
   "metadata": {},
   "outputs": [],
   "source": [
    "# code to generate a processed and combined data by employing the filter_and_combine_data function\n",
    "processed_data = filter_and_combine_data(portfolio_processed, profile_processed, offers_processed, transactions_processed)"
   ]
  },
  {
   "cell_type": "code",
   "execution_count": 27,
   "metadata": {},
   "outputs": [],
   "source": [
    "# save the processed dataframe as a file in a csv format\n",
    "processed_data.to_csv('processed_data.csv', index=False)\n"
   ]
  },
  {
   "cell_type": "code",
   "execution_count": 3,
   "metadata": {},
   "outputs": [],
   "source": [
    "def data_refining():\n",
    "    '''\n",
    "    This function loads the cleaned data and undertakes additional processing. Main tasks are to remove rows with empty values\n",
    "    in the age_range, income_range columns. A second main action is to use one-hot encoding to feature-engineer new explanatory\n",
    "    varialbe out of the income_range, age_range and year columns.\n",
    "\n",
    "    OUTPUT: \n",
    "        final_clean_data (dataframe): a dataframe generated by applying futher refinement on the saved csv file. \n",
    "\n",
    "    '''\n",
    "    # load the processed cvs file into a pandas dataframe\n",
    "    clean_data = pd.read_csv('processed_data.csv')\n",
    "    # remove empty rows which currenty only have the string '{}'\n",
    "    final_clean_data = clean_data[clean_data['age_range'] != '{}']\n",
    "    # one-hot encode the income_range column\n",
    "    final_clean_data = pd.get_dummies(final_clean_data, columns=['income_range'], prefix='income',  prefix_sep=\"_\", dtype=int)\n",
    "    # one-hot encode the age_range column\n",
    "    final_clean_data = pd.get_dummies(final_clean_data, columns=['age_range'], prefix='age',  prefix_sep=\"_\", dtype=int)\n",
    "    # one-hot encode the year column\n",
    "    final_clean_data = pd.get_dummies(final_clean_data, columns=['year'], prefix='year',  prefix_sep=\"_\", dtype=int)\n",
    "    \n",
    "    return final_clean_data\n",
    "    \n",
    "refined_data = data_refining()\n"
   ]
  },
  {
   "cell_type": "code",
   "execution_count": 4,
   "metadata": {},
   "outputs": [],
   "source": [
    "# save the final_data as a csv file\n",
    "refined_data.to_csv('final_data.csv', index=False)"
   ]
  },
  {
   "cell_type": "markdown",
   "metadata": {},
   "source": [
    "#### Some analysis based on the combined data"
   ]
  },
  {
   "cell_type": "markdown",
   "metadata": {},
   "source": [
    "Below, we will calculate the success rates for each of the offer categories. The first step will be to build a function that filters\n",
    "the number of successfuly completed offers as compared to the total number of offers in each category."
   ]
  },
  {
   "cell_type": "code",
   "execution_count": 5,
   "metadata": {},
   "outputs": [],
   "source": [
    "def calculate_offer_success(refined_data, portfolio):\n",
    "    \"\"\" \n",
    "    A function to calcualte the success percentage for each offer\n",
    "    \n",
    "    INPUT:\n",
    "        clean_data (dataframe): DataFrame that includes offer_completed along with other offer information\n",
    "        portfolio (dataframe): The original dataset containing offer_types, duration, etc\n",
    "    \n",
    "    OUTPUT:\n",
    "        percent_success (dataframe): DataFrame that describes the success percentage for each offer\n",
    "    \"\"\"\n",
    "\n",
    "    # group the completed offers by offer_id and aggregate\n",
    "    success_count = refined_data[['offer_id', 'offer_completed']].groupby('offer_id').sum().reset_index()\n",
    "    # value counts for the offer_ids\n",
    "    offer_count = refined_data['offer_id'].value_counts()\n",
    "    # generate a Pandas dataframe from the indexes and value of the offer_count above\n",
    "    offer_count = pd.DataFrame(list(zip(offer_count.index.values, offer_count.values)), columns=['offer_id', 'count'])\n",
    "\n",
    "    # sort the success count data generated above\n",
    "    sorted_success_count = success_count.sort_values('offer_id')\n",
    "    # sort the offer_count data\n",
    "    sorted_offer_count = offer_count.sort_values('offer_id')\n",
    "    # merge data contained in offer_count and success_count\n",
    "    offer_success_count = pd.merge(sorted_offer_count, sorted_success_count, on=\"offer_id\")\n",
    "\n",
    "    # create a success_percent column by dividing offer completed by offer count\n",
    "    offer_success_count['success_percent'] = (100 * offer_success_count['offer_completed'] / offer_success_count['count'])\n",
    "\n",
    "    # create a copy of the original porfolio dataset with only the 'id' and 'offer_type' columns included\n",
    "    portfolio_copy = portfolio[['id', 'offer_type']]\n",
    "    # rename the 'id' column label to 'offer_id' to facilitate a merge function\n",
    "    portfolio_copy = portfolio_copy.rename(columns = {'id': 'offer_id'})\n",
    "    # merge the offer_success_count and portfolio dataframes\n",
    "    merged_count = pd.merge(offer_success_count, portfolio_copy, on=\"offer_id\")\n",
    "\n",
    "    # drop the offer_completed column since the desired information is now captured in the new 'success_percent' column\n",
    "    percent_success = merged_count.drop(columns=['offer_completed'])\n",
    "    # sort the success percentages \n",
    "    percent_success = percent_success.sort_values('success_percent', ascending=False).reset_index(drop=True)\n",
    "\n",
    "    return percent_success\n",
    "\n",
    "# apply the calculate_offer_success function to the refined_data and portfolio datasets\n",
    "offer_success_df = calculate_offer_success(refined_data, portfolio)"
   ]
  },
  {
   "cell_type": "code",
   "execution_count": 6,
   "metadata": {},
   "outputs": [
    {
     "data": {
      "text/html": [
       "<div>\n",
       "<style scoped>\n",
       "    .dataframe tbody tr th:only-of-type {\n",
       "        vertical-align: middle;\n",
       "    }\n",
       "\n",
       "    .dataframe tbody tr th {\n",
       "        vertical-align: top;\n",
       "    }\n",
       "\n",
       "    .dataframe thead th {\n",
       "        text-align: right;\n",
       "    }\n",
       "</style>\n",
       "<table border=\"1\" class=\"dataframe\">\n",
       "  <thead>\n",
       "    <tr style=\"text-align: right;\">\n",
       "      <th></th>\n",
       "      <th>offer_id</th>\n",
       "      <th>count</th>\n",
       "      <th>success_percent</th>\n",
       "      <th>offer_type</th>\n",
       "    </tr>\n",
       "  </thead>\n",
       "  <tbody>\n",
       "    <tr>\n",
       "      <th>0</th>\n",
       "      <td>fafdcd668e3743c1bb461111dcafc2a4</td>\n",
       "      <td>6652</td>\n",
       "      <td>75.285628</td>\n",
       "      <td>discount</td>\n",
       "    </tr>\n",
       "    <tr>\n",
       "      <th>1</th>\n",
       "      <td>2298d6c36e964ae4a3e7e9706d1fb8c2</td>\n",
       "      <td>6655</td>\n",
       "      <td>72.742299</td>\n",
       "      <td>discount</td>\n",
       "    </tr>\n",
       "    <tr>\n",
       "      <th>2</th>\n",
       "      <td>f19421c1d4aa40978ebb69ca19b0e20d</td>\n",
       "      <td>6576</td>\n",
       "      <td>61.618005</td>\n",
       "      <td>bogo</td>\n",
       "    </tr>\n",
       "    <tr>\n",
       "      <th>3</th>\n",
       "      <td>ae264e3637204a6fb9bb56bc8210ddfd</td>\n",
       "      <td>6683</td>\n",
       "      <td>54.646117</td>\n",
       "      <td>bogo</td>\n",
       "    </tr>\n",
       "    <tr>\n",
       "      <th>4</th>\n",
       "      <td>4d5c57ea9a6940dd891ad53e9dbe8da0</td>\n",
       "      <td>6593</td>\n",
       "      <td>51.721523</td>\n",
       "      <td>bogo</td>\n",
       "    </tr>\n",
       "    <tr>\n",
       "      <th>5</th>\n",
       "      <td>9b98b8c7a33c4b65b9aebfe6a799e6d9</td>\n",
       "      <td>6685</td>\n",
       "      <td>48.287210</td>\n",
       "      <td>bogo</td>\n",
       "    </tr>\n",
       "    <tr>\n",
       "      <th>6</th>\n",
       "      <td>2906b810c7d4411798c6938adc9daaa5</td>\n",
       "      <td>6631</td>\n",
       "      <td>47.730357</td>\n",
       "      <td>discount</td>\n",
       "    </tr>\n",
       "    <tr>\n",
       "      <th>7</th>\n",
       "      <td>0b1e1539f2cc45b7b9fa7c272da2e1d7</td>\n",
       "      <td>6726</td>\n",
       "      <td>45.762712</td>\n",
       "      <td>discount</td>\n",
       "    </tr>\n",
       "    <tr>\n",
       "      <th>8</th>\n",
       "      <td>3f207df678b143eea3cee63160fa8bed</td>\n",
       "      <td>6657</td>\n",
       "      <td>7.721196</td>\n",
       "      <td>informational</td>\n",
       "    </tr>\n",
       "    <tr>\n",
       "      <th>9</th>\n",
       "      <td>5a8bc65990b245e5a138643cd4eb9837</td>\n",
       "      <td>6643</td>\n",
       "      <td>6.277284</td>\n",
       "      <td>informational</td>\n",
       "    </tr>\n",
       "  </tbody>\n",
       "</table>\n",
       "</div>"
      ],
      "text/plain": [
       "                           offer_id  count  success_percent     offer_type\n",
       "0  fafdcd668e3743c1bb461111dcafc2a4   6652        75.285628       discount\n",
       "1  2298d6c36e964ae4a3e7e9706d1fb8c2   6655        72.742299       discount\n",
       "2  f19421c1d4aa40978ebb69ca19b0e20d   6576        61.618005           bogo\n",
       "3  ae264e3637204a6fb9bb56bc8210ddfd   6683        54.646117           bogo\n",
       "4  4d5c57ea9a6940dd891ad53e9dbe8da0   6593        51.721523           bogo\n",
       "5  9b98b8c7a33c4b65b9aebfe6a799e6d9   6685        48.287210           bogo\n",
       "6  2906b810c7d4411798c6938adc9daaa5   6631        47.730357       discount\n",
       "7  0b1e1539f2cc45b7b9fa7c272da2e1d7   6726        45.762712       discount\n",
       "8  3f207df678b143eea3cee63160fa8bed   6657         7.721196  informational\n",
       "9  5a8bc65990b245e5a138643cd4eb9837   6643         6.277284  informational"
      ]
     },
     "execution_count": 6,
     "metadata": {},
     "output_type": "execute_result"
    }
   ],
   "source": [
    "# display count and success_percent for each offer_id indicating the preferred offer_types\n",
    "offer_success_df"
   ]
  },
  {
   "cell_type": "code",
   "execution_count": 7,
   "metadata": {},
   "outputs": [
    {
     "data": {
      "image/png": "[encoded data removed]",
      "text/plain": [
       "<Figure size 640x480 with 1 Axes>"
      ]
     },
     "metadata": {},
     "output_type": "display_data"
    }
   ],
   "source": [
    "def plot_offer_success(data, column, title):\n",
    "    \"\"\"\n",
    "    This function will plot the offer_success rate generated above\n",
    "    INPUT:\n",
    "        df (dataframe): the offer_success dataframe\n",
    "        column (string): the specific column from the dataframe to be used in the plot\n",
    "        title (string): A title for the graph\n",
    "    \"\"\"\n",
    "    # x values\n",
    "    x = data.index + 1\n",
    "    # y values\n",
    "    y = data[column]\n",
    "\n",
    "    # initialize a plot\n",
    "    plt.bar(x, y)\n",
    "    plt.xticks(np.arange(1, len(x)+1, 1))\n",
    "    plt.xlabel('Offer Number')\n",
    "    plt.ylabel(column)\n",
    "    plt.title(title)\n",
    "    plt.show()\n",
    "\n",
    "# generate the plot by applyin the function to the offer_success dataframe\n",
    "plot_offer_success(offer_success_df, 'success_percent', 'Percentage of Offers accepted by Customers')"
   ]
  },
  {
   "cell_type": "markdown",
   "metadata": {},
   "source": [
    "### Split data and scale features"
   ]
  },
  {
   "cell_type": "markdown",
   "metadata": {},
   "source": [
    "Next we prepare to use ML models to draw insights from the refined data. The first step will be scale selected features."
   ]
  },
  {
   "cell_type": "code",
   "execution_count": 8,
   "metadata": {},
   "outputs": [],
   "source": [
    "# initialize a standard scaler object from the sklearn.preprocessing module\n",
    "scaler = StandardScaler()"
   ]
  },
  {
   "cell_type": "code",
   "execution_count": 9,
   "metadata": {},
   "outputs": [],
   "source": [
    "# drop columns not needed for the models\n",
    "final_clean_data_cols_dropped = refined_data.drop(columns=['offer_id', 'time', 'customer_id', 'duration', 'became_member_on'])"
   ]
  },
  {
   "cell_type": "code",
   "execution_count": 10,
   "metadata": {},
   "outputs": [],
   "source": [
    "# create a list of features to scale\n",
    "selected_cols = ['total_amount', 'reward', 'difficulty', 'duration_in_hrs']\n",
    "\n",
    "\n",
    "def scaling_function(df, features):\n",
    "    \n",
    "    \"\"\"\n",
    "    A function to scale a list of features\n",
    "    \n",
    "    INPUT:\n",
    "        df (dataframe): a dataframe\n",
    "        features (list): a selected list of columns to apply the scale function\n",
    "\n",
    "    OUTPUT:\n",
    "        df_scaled(dataframe): a dataframe recombining back the scaled features with the other variables\n",
    "    \"\"\"\n",
    "        \n",
    "    # a dataframe formed by extracting the features selected for scaling\n",
    "    cols_to_scale = df[features]\n",
    "        \n",
    "    # apply the scaler's fit_transform method\n",
    "    scaled_features = pd.DataFrame(scaler.fit_transform(cols_to_scale), columns = cols_to_scale.columns, index=cols_to_scale.index)\n",
    "        \n",
    "    # remove the orignal features from the dataframe \n",
    "    df = df.drop(columns=features, axis=1)\n",
    "\n",
    "    # recombine the scaled features with the input dataframe\n",
    "    df_scaled = pd.concat([df, scaled_features], axis=1)\n",
    "        \n",
    "    return df_scaled\n",
    "\n",
    "# apply the scaler function to the selected columns \n",
    "clean_scaled_data = scaling_function(final_clean_data_cols_dropped, selected_cols)"
   ]
  },
  {
   "cell_type": "markdown",
   "metadata": {},
   "source": [
    "#### Split data into train and test sets"
   ]
  },
  {
   "cell_type": "code",
   "execution_count": 11,
   "metadata": {},
   "outputs": [],
   "source": [
    "# splitting the dataset\n",
    "\n",
    "# X includes the independent variables that act as explanaroty variables in the model\n",
    "X = clean_scaled_data.drop(columns=['offer_completed'])\n",
    "\n",
    "# y holds data on the feature we will try to predict\n",
    "y = clean_scaled_data['offer_completed']\n",
    "\n",
    "# split data into train and test sets using sklearn's train_test_split() method\n",
    "X_train, X_test, y_train, y_test = train_test_split(X, y, test_size=0.3, random_state=42)"
   ]
  },
  {
   "cell_type": "markdown",
   "metadata": {},
   "source": [
    "### Selecting ML Models, Training and Evaluating performance of the models"
   ]
  },
  {
   "cell_type": "markdown",
   "metadata": {},
   "source": [
    "In the next section, we will use sklearns' ML modules to train selected modesl, fit the training data and test the models on the test sets."
   ]
  },
  {
   "cell_type": "code",
   "execution_count": 12,
   "metadata": {},
   "outputs": [],
   "source": [
    "# instantiate a classifier based on sklearn logistic regression model\n",
    "lrc = LogisticRegression(random_state=42, solver='liblinear')\n",
    "# initialize another classifier based on the random forest model\n",
    "rfc = RandomForestClassifier(random_state=42)"
   ]
  },
  {
   "cell_type": "code",
   "execution_count": 13,
   "metadata": {},
   "outputs": [
    {
     "name": "stdout",
     "output_type": "stream",
     "text": [
      "LogisticRegression(random_state=42, solver='liblinear')\n",
      "Score : 0.8795488721804511\n",
      "\n",
      "RandomForestClassifier(random_state=42)\n",
      "Score : 0.9998066595059076\n",
      "\n"
     ]
    }
   ],
   "source": [
    "def train_model(X_train, y_train):\n",
    "    \"\"\"\n",
    "    This function trains the identified classifers with the X_train and y_train sets\n",
    "    INPUT:\n",
    "        X_train (dataframe): the feature variables of the training set\n",
    "        y_train (Pandas Series): the target variable of the training set\n",
    "        \"\"\"\n",
    "    classifiers = [lrc, rfc]\n",
    "    for clf in classifiers:\n",
    "        training = clf.fit(X_train, y_train)\n",
    "        score = 'Score : {}'.format(clf.score(X_train, y_train))\n",
    "        print(training)\n",
    "        print(score + '\\n')\n",
    " \n",
    "# run the models based on the training data\n",
    "train_model(X_train, y_train)"
   ]
  },
  {
   "cell_type": "code",
   "execution_count": 14,
   "metadata": {},
   "outputs": [
    {
     "name": "stdout",
     "output_type": "stream",
     "text": [
      "LogisticRegression\n",
      "Test_Score : 0.8793042955240339\n",
      "\n",
      "RandomForestClassifier\n",
      "Test_Score : 0.9068718359981955\n",
      "\n"
     ]
    }
   ],
   "source": [
    "def evaluate_model_perfomance(X_test, y_test):\n",
    "    \"\"\"\n",
    "    This function tests the identified classifiers with the X_test set\n",
    "    INPUT:\n",
    "        X_test (dataframe): featues of the test set\n",
    "        y_test (Pandas Series): target variable of the test set\n",
    "        \"\"\"\n",
    "    classifiers = [lrc, rfc]\n",
    "    for clf in classifiers:\n",
    "        testing = clf.predict(X_test)\n",
    "        score = 'Test_Score : {}'.format(clf.score(X_test, y_test))\n",
    "    \n",
    "        print(clf.__class__.__name__)\n",
    "        print(score + '\\n')\n",
    "    \n",
    "# run the evaluate_model function on the test set\n",
    "evaluate_model_perfomance(X_test, y_test)\n"
   ]
  },
  {
   "cell_type": "code",
   "execution_count": 15,
   "metadata": {},
   "outputs": [],
   "source": [
    "y_pred_test = rfc.predict(X_test)\n",
    "matrix = confusion_matrix(y_test, y_pred_test)"
   ]
  },
  {
   "cell_type": "code",
   "execution_count": 55,
   "metadata": {},
   "outputs": [
    {
     "data": {
      "text/plain": [
       "array([[9458, 1042],\n",
       "       [ 816, 8635]])"
      ]
     },
     "execution_count": 55,
     "metadata": {},
     "output_type": "execute_result"
    }
   ],
   "source": [
    "matrix"
   ]
  },
  {
   "cell_type": "code",
   "execution_count": null,
   "metadata": {},
   "outputs": [],
   "source": []
  },
  {
   "cell_type": "markdown",
   "metadata": {},
   "source": [
    "### Further Analysis of Results"
   ]
  },
  {
   "cell_type": "markdown",
   "metadata": {},
   "source": [
    "The logistic regression yielded a predictive accuracy of 87 percent, which is reasonably high. The same data, when applied to a RandomForestClassifier showed an improvement, with 90 percent predictive accuracy."
   ]
  },
  {
   "cell_type": "markdown",
   "metadata": {},
   "source": [
    "Next we will assess the features with the greatest explanatory power in the decision to complete the offers."
   ]
  },
  {
   "cell_type": "code",
   "execution_count": 16,
   "metadata": {},
   "outputs": [
    {
     "data": {
      "image/png": "[encoded data removed]",
      "text/plain": [
       "<Figure size 640x480 with 1 Axes>"
      ]
     },
     "metadata": {},
     "output_type": "display_data"
    }
   ],
   "source": [
    "# retrieve the trained parameters from the RandomForestClassifier\n",
    "explanatory_pwr = pd.DataFrame(rfc.feature_importances_,index=X_train.columns.tolist(),columns=['exp_pwr']).reset_index()\n",
    "# rename the index\n",
    "explanatory_pwr.rename(columns={'index': 'feature'}, inplace=True)\n",
    "# calculate the explanatory power of each variable  \n",
    "explanatory_pwr['exp_pwr_strength'] = np.round((explanatory_pwr['exp_pwr']/explanatory_pwr['exp_pwr'].sum())*100,2)\n",
    "# sort the variables\n",
    "explanatory_pwr = explanatory_pwr.sort_values(by=['exp_pwr_strength'], ascending=False).reset_index(drop=True)\n",
    "# drop the 'exp_pwr' variable\n",
    "explanatory_pwr.drop(columns=['exp_pwr'],inplace=True)\n",
    "\n",
    "# x values\n",
    "x = explanatory_pwr.loc[0:4, 'feature']\n",
    "# y values\n",
    "y = explanatory_pwr.loc[0:4, 'exp_pwr_strength']\n",
    "\n",
    "# plot the ratios\n",
    "\n",
    "plt.bar(x, y, color='purple')\n",
    "plt.xlabel('Feature')\n",
    "plt.ylabel('Percentage')\n",
    "\n",
    "plt.title('Top 5 features with the strongest explanatory power')\n",
    "plt.show()"
   ]
  },
  {
   "cell_type": "code",
   "execution_count": null,
   "metadata": {},
   "outputs": [],
   "source": []
  },
  {
   "cell_type": "markdown",
   "metadata": {},
   "source": [
    "### Conclusions"
   ]
  },
  {
   "cell_type": "markdown",
   "metadata": {},
   "source": [
    " After reviewing the options provided for the Capstone Project, I decided to work on the Starbucks project. I started out by inspecting the three datasets and decided to filter and merge the three sets in order to leverage the related information contained in the different files. My focus was to generate insight that better explains consumers decision on whether to accept and complete offers of discount/GOGO. \n",
    " \n",
    " I conducted data cleaning, feature engineering and refinements at several stages. I found that discount offers such as offer 1 and 2 lead to better offer-completion compared to informational offers such as offer 9 and 10. \n",
    " \n",
    " Next, I used logistic regression and random forest models. The random forest model yieled the a higher training data accuracy and predictive accuracy compared to the logistic regression. \n",
    "\n",
    "Last, I assessed the predictive powers of the features used in the random forest classifier. Based on the strength of each variable's explanatory power, the amount of money the customer spent was the strongest predictor on whether the customer will accept the offer and complete the process."
   ]
  },
  {
   "cell_type": "code",
   "execution_count": null,
   "metadata": {},
   "outputs": [],
   "source": []
  }
 ],
 "metadata": {
  "kernelspec": {
   "display_name": "Python 3",
   "language": "python",
   "name": "python3"
  },
  "language_info": {
   "codemirror_mode": {
    "name": "ipython",
    "version": 3
   },
   "file_extension": ".py",
   "mimetype": "text/x-python",
   "name": "python",
   "nbconvert_exporter": "python",
   "pygments_lexer": "ipython3",
   "version": "3.9.2"
  }
 },
 "nbformat": 4,
 "nbformat_minor": 2
}
